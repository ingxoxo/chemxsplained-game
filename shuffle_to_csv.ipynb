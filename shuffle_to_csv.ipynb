{
 "cells": [
  {
   "cell_type": "code",
   "execution_count": null,
   "metadata": {},
   "outputs": [],
   "source": [
    "rawdatacsv=\"raw-word-data.csv\"\n",
    "shuffledcsv=\"shuffled_out.csv\"\n",
    "shuffledxls=\"shuffled_out.xls\"\n",
    "\n",
    "#word1\n",
    "#word2\n",
    "#word3\n",
    "#word4\n",
    "#version_seconds_since_epoch\n",
    "\n",
    "\n",
    "# firstword is legit the firts list so I use all the ideas\n",
    "# secondword is a random draw from the first list but not equal other words\n",
    "# thirdword is a random draw from the first list but not equal other words\n",
    "# fourthword is a random draw from the firts list but not equal other words"
   ]
  },
  {
   "cell_type": "code",
   "execution_count": null,
   "metadata": {},
   "outputs": [],
   "source": [
    "import csv\n",
    "import random\n",
    "import time\n",
    "# with open(rawdatacsv, newline='') as csvfile:\n",
    "#     wordlist = csv.reader(csvfile, delimiter=',', quotechar='|')\n",
    "# print(wordlist)"
   ]
  },
  {
   "cell_type": "code",
   "execution_count": null,
   "metadata": {},
   "outputs": [],
   "source": [
    "# random.choice(movie_list)"
   ]
  },
  {
   "cell_type": "code",
   "execution_count": null,
   "metadata": {},
   "outputs": [],
   "source": [
    "# with open('eggs.csv', 'w', newline='') as csvfile:\n",
    "#     spamwriter = csv.writer(csvfile, delimiter=' ',\n",
    "#                             quotechar='|', quoting=csv.QUOTE_MINIMAL)\n",
    "#     spamwriter.writerow(['Spam'] * 5 + ['Baked Beans'])"
   ]
  },
  {
   "cell_type": "code",
   "execution_count": null,
   "metadata": {},
   "outputs": [],
   "source": [
    "import pandas\n",
    "df = pandas.read_csv(rawdatacsv)\n",
    "#print(df)\n"
   ]
  },
  {
   "cell_type": "code",
   "execution_count": null,
   "metadata": {},
   "outputs": [],
   "source": [
    "uniq = df.Concepts.unique()\n",
    "#df.Concepts.duplicated()\n",
    "print(random.choice(df.Concepts))"
   ]
  },
  {
   "cell_type": "code",
   "execution_count": null,
   "metadata": {},
   "outputs": [],
   "source": [
    "def random_unique(data, duplicates=None):\n",
    "    # data is the list of data to pull from\n",
    "    # duplicates is what the random output must not match\n",
    "    # horrible case where duplicated contains more data than data and this will endlessly loop - I shoudn't hit that edge case\n",
    "    choice=random.choice(data)\n",
    "    if duplicates:\n",
    "        if choice in duplicates:\n",
    "            choice=random_unique(data,duplicates)\n",
    "    return choice\n",
    "\n",
    "# alternative is to remove the word chosen from the set and carry on picking"
   ]
  },
  {
   "cell_type": "code",
   "execution_count": null,
   "metadata": {},
   "outputs": [],
   "source": [
    "# random_unique(df.Concepts)"
   ]
  },
  {
   "cell_type": "code",
   "execution_count": null,
   "metadata": {},
   "outputs": [],
   "source": [
    "# iterate all unique concepts\n",
    "\n",
    "lol = []\n",
    "version=time.time_ns()\n",
    "for word in uniq:\n",
    "    #print(word)\n",
    "    word2 = random_unique(uniq,word)\n",
    "    word3 = random_unique(uniq,[word,word2])\n",
    "    word4 = random_unique(uniq,[word,word2,word3])\n",
    "    print(word,word2,word3,word4)\n",
    "    lol.append([word,word2,word3,word4,version])\n",
    "fdf = pandas.DataFrame(lol,columns=['word1','word2','word3','word4','version'])\n",
    "fdf = fdf.rename_axis('index')"
   ]
  },
  {
   "cell_type": "code",
   "execution_count": null,
   "metadata": {},
   "outputs": [],
   "source": [
    "fdf.to_excel(shuffledxls)\n"
   ]
  },
  {
   "cell_type": "code",
   "execution_count": null,
   "metadata": {},
   "outputs": [],
   "source": []
  },
  {
   "cell_type": "code",
   "execution_count": null,
   "metadata": {},
   "outputs": [],
   "source": []
  },
  {
   "cell_type": "code",
   "execution_count": null,
   "metadata": {},
   "outputs": [],
   "source": []
  }
 ],
 "metadata": {
  "kernelspec": {
   "display_name": "Python 3",
   "language": "python",
   "name": "python3"
  },
  "language_info": {
   "codemirror_mode": {
    "name": "ipython",
    "version": 3
   },
   "file_extension": ".py",
   "mimetype": "text/x-python",
   "name": "python",
   "nbconvert_exporter": "python",
   "pygments_lexer": "ipython3",
   "version": "3.7.1"
  }
 },
 "nbformat": 4,
 "nbformat_minor": 2
}
