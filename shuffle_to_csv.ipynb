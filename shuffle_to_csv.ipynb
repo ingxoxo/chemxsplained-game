{
 "cells": [
  {
   "cell_type": "code",
   "execution_count": 1,
   "metadata": {},
   "outputs": [],
   "source": [
    "rawdatacsv=\"raw-word-data.csv\"\n",
    "shuffledcsv=\"shuffled_out.csv\"\n",
    "shuffledxls=\"shuffled_out.xls\"\n",
    "\n",
    "#word1\n",
    "#word2\n",
    "#word3\n",
    "#word4\n",
    "#version_seconds_since_epoch\n",
    "\n",
    "\n",
    "# firstword is legit the firts list so I use all the ideas\n",
    "# secondword is a random draw from the first list but not equal other words\n",
    "# thirdword is a random draw from the first list but not equal other words\n",
    "# fourthword is a random draw from the firts list but not equal other words"
   ]
  },
  {
   "cell_type": "code",
   "execution_count": 2,
   "metadata": {},
   "outputs": [],
   "source": [
    "import csv\n",
    "import random\n",
    "import time\n",
    "# with open(rawdatacsv, newline='') as csvfile:\n",
    "#     wordlist = csv.reader(csvfile, delimiter=',', quotechar='|')\n",
    "# print(wordlist)"
   ]
  },
  {
   "cell_type": "code",
   "execution_count": 3,
   "metadata": {},
   "outputs": [],
   "source": [
    "# random.choice(movie_list)"
   ]
  },
  {
   "cell_type": "code",
   "execution_count": 4,
   "metadata": {},
   "outputs": [],
   "source": [
    "# with open('eggs.csv', 'w', newline='') as csvfile:\n",
    "#     spamwriter = csv.writer(csvfile, delimiter=' ',\n",
    "#                             quotechar='|', quoting=csv.QUOTE_MINIMAL)\n",
    "#     spamwriter.writerow(['Spam'] * 5 + ['Baked Beans'])"
   ]
  },
  {
   "cell_type": "code",
   "execution_count": 5,
   "metadata": {},
   "outputs": [],
   "source": [
    "import pandas\n",
    "df = pandas.read_csv(rawdatacsv)\n",
    "#print(df)\n"
   ]
  },
  {
   "cell_type": "code",
   "execution_count": 6,
   "metadata": {},
   "outputs": [
    {
     "name": "stdout",
     "output_type": "stream",
     "text": [
      "Melting\n"
     ]
    }
   ],
   "source": [
    "uniq = df.Concepts.unique()\n",
    "#df.Concepts.duplicated()\n",
    "print(random.choice(df.Concepts))"
   ]
  },
  {
   "cell_type": "code",
   "execution_count": 7,
   "metadata": {},
   "outputs": [],
   "source": [
    "def random_unique(data, duplicates=None):\n",
    "    # data is the list of data to pull from\n",
    "    # duplicates is what the random output must not match\n",
    "    # horrible case where duplicated contains more data than data and this will endlessly loop - I shoudn't hit that edge case\n",
    "    choice=random.choice(data)\n",
    "    if duplicates:\n",
    "        if choice in duplicates:\n",
    "            choice=random_unique(data,duplicates)\n",
    "    return choice\n",
    "\n",
    "# alternative is to remove the word chosen from the set and carry on picking"
   ]
  },
  {
   "cell_type": "code",
   "execution_count": 8,
   "metadata": {},
   "outputs": [],
   "source": [
    "# random_unique(df.Concepts)"
   ]
  },
  {
   "cell_type": "code",
   "execution_count": 9,
   "metadata": {},
   "outputs": [
    {
     "name": "stdout",
     "output_type": "stream",
     "text": [
      "Sublimation Cooling curve Unsaturated solution Vaporising\n",
      "Enthalpy Dipole Boiling point elevation Metallic bonding\n",
      "Deposition Amorphous solid Ionic Dispersion forces\n",
      "Charge density Mole fraction Condensation Unsaturated solution\n",
      "Melting Covalent radius Hypertonic Surface tension\n",
      "Entropy Saturated Vaporising Ion-dipole\n",
      "Saturated Van der Waals radius Van der Waals forces Hydrogen bonding\n",
      "Molarity Vaporising Saturated Solution\n",
      "Colligative properties Atomic solid Osmosis Solubility\n",
      "Molality Surroundings Heat of mixing Dipole\n",
      "Ion-dipole Hydrogen bonding Metallic bonding Charge density\n",
      "Semi-permeable membrane Vapour Pressure Lowering Sublimation Heat of mixing\n",
      "Freezing Surface tension Non-volatile Saturated\n",
      "Osmosis Capillarity Hydrogen bonding Boiling point elevation\n",
      "Vaporising Dipole Packing Efficiency Isotonic\n",
      "Henry's law Like dissolves like Osmosis Dipole-Dipole\n",
      "Condensing Interstitial Alloy Molecular solid Vaporisation\n",
      "Ionic bonding Osmosis Condensation Mixture\n",
      "Ion Osmosis Surroundings Body-centred cubic\n",
      "Dipole Viscosity Covalent Intermolecular forces\n",
      "Hydrogen bonding Saturated Heating curve Freezing point\n",
      "Covalent bonding Pure solvent Convex Dipole-Dipole\n",
      "Electron cloud Ionic bonding Henry's law Hydrogen bonding\n",
      "Hydrogen bond Like dissolves like Volatile Solution\n",
      "Surface tension Network-covalent solid Sublimation Atomic solid\n",
      "Dipole-Dipole Substitutional Alloy Hydrogen bonding Face-centred cubic\n",
      "Capillarity Saturated Boiling point elevation Heat of mixing\n",
      "Ion-induced dipole Gibbs free energy Heat of solute Simple cubic\n",
      "Cohesive forces Like dissolves like Non-electrolyte Vapour pressure\n",
      "Dipole-induced dipole Interstitial Alloy Solvent Deposition\n",
      "Adhesive forces Osmosis Ion-Dipole Mixture\n",
      "Dispersion forces Intramolecular forces Van der Waals radius Solvent\n",
      "Metallic bonding Ion-Dipole Deposition Dipole\n",
      "Van der Waals radius Cooling curve Colligative properties Isotonic\n",
      "Dispersion Molality Coordination number Covalent\n",
      "Vapour Pressure Lowering Exothermic Metallic bonding Van der Waals forces\n",
      "Concave Ionic bonding Molality Heat of solvent\n",
      "Vapour pressure Weak Electrolyte Non-volatile Convex\n",
      "Convex Isotonic Equilibrium Supersaturated solution\n",
      "Boiling point elevation Surroundings Condensation Dipole\n",
      "Viscosity Miscible Ion-induced dipole Heat of mixing\n",
      "Freezing point depression Viscosity Van der Waals forces Heat of solute\n",
      "Crystalline solid Vaporisation Equilibrium Face-centred cubic\n",
      "Osmotic pressure Dual polarity Dispersion forces Ion-Dipole\n",
      "Amorphous solid Pure solvent Deposition Molarity\n",
      "Hypertonic Non-electrolyte Osmosis Ion-Dipole\n",
      "Hypotonic Hydration shell Unsaturated solution Entropy\n",
      "Crystal lattice Atomic solid Interstitial Alloy Melting\n",
      "Simple cubic Freezing point depression Atomic solid Miscible\n",
      "Isotonic Molecular solid Capillarity Metallic solid\n",
      "Body-centred cubic Ion-Dipole Condensing Cooling curve\n",
      "Cooling curve Saturated Osmosis Semi-permeable membrane\n",
      "Face-centred cubic Coordination number Metallic solid Semi-permeable membrane\n",
      "Heating curve Vapour Pressure Lowering Molarity Clausius-Clapeyron\n",
      "Packing efficiency Mixture Freezing point depression Dispersion forces\n",
      "Phase diagram Density Amorphous solid Dipole\n",
      "Exothermic Intramolecular forces Melting Covalent\n",
      "Endothermic Dipole-Dipole Equilibrium Hydrogen bonding\n",
      "Solution Phase diagram Body-centred cubic Condensing\n",
      "Atomic solid Hydrogen bond Heat of solute Phase diagram\n",
      "Triple point Miscible Ion-Dipole Hypotonic\n",
      "Network-covalent solid Cooling curve Dispersion Endothermic\n",
      "Critical point Surface tension Heat of solution Saturated solution\n",
      "Pure solvent Colligative properties Osmosis Saturated solution\n",
      "Intermolecular forces Dipole-Dipole Dipole Coordination number\n",
      "Intramolecular forces Molarity Mixture Van der Waals radius\n",
      "Mixture Solubility Atomic solid Freezing point depression\n",
      "Solute Solution Cohesive forces Ionic bonding\n",
      "Solvent Vaporisation Unsaturated solution Ion-induced dipole\n",
      "Hydration shell Saturated solution Condensing Dipole-induced dipole\n",
      "Molecular solid Phase diagram Condensation Triple point\n",
      "Gibbs free energy Exothermic Colligative properties Molality\n",
      "Solubility Volatile Metallic bonding Viscosity\n",
      "Like dissolves like Molecular solid Boiling point elevation Covalent\n",
      "Ionic Sublimation Cooling curve Intramolecular forces\n",
      "Covalent Ionic Electron cloud Solution\n",
      "Metallic solid System Packing Efficiency Substitutional Alloy\n",
      "Vaporisation Freezing Boiling point elevation Henry's law\n",
      "Van der Waals forces Heat of solvent Surface tension Sublimation\n",
      "Condensation Osmotic pressure Metallic bonding Packing efficiency\n",
      "Covalent radius Dipole Vaporisation Freezing point\n",
      "Ion-Dipole Mole fraction Volatile Vaporising\n",
      "System Freezing Body-centred cubic Molarity\n",
      "Surroundings Capillarity Covalent Heat of solvent\n",
      "Heat of solvent Heating curve System Molecular solid\n",
      "Heat of solute Freezing Exothermic Convex\n",
      "Heat of solution Molality Boiling point Simple cubic\n",
      "Heat of mixing Solute Metallic solid Ionic bonding\n",
      "Strong Electrolyte Amorphous solid Sublimation Surroundings\n",
      "Non-electrolyte Covalent radius Entropy Metallic solid\n",
      "Weak Electrolyte Vapour pressure Metallic bonding Dispersion forces\n",
      "Volatile Hydrogen bond Saturated solution Body-centred cubic\n",
      "Non-volatile Dipole Dispersion Surface tension\n",
      "Boiling point System Solvent Body-centred cubic\n",
      "Freezing point Intermolecular forces Isotonic Intramolecular forces\n",
      "Interstitial Alloy Dual polarity Coordination number Melting\n",
      "Substitutional Alloy Condensing Saturated solution Convex\n",
      "Coordination number Viscosity Atomic solid Ion-induced dipole\n",
      "Equilibrium Molality Electron cloud Charge density\n",
      "Supersaturated solution Hypotonic Freezing point Hypertonic\n",
      "Saturated solution Intramolecular forces Osmotic pressure Substitutional Alloy\n",
      "Unsaturated solution Ion-Dipole Covalent Henry's law\n",
      "Partial pressure Sublimation Vaporising Ion\n",
      "Dual polarity Freezing point depression Van der Waals forces Intermolecular forces\n",
      "Mole fraction Intermolecular forces Covalent Heat of solution\n",
      "Miscible Henry's law Non-electrolyte Ionic\n",
      "Packing Efficiency Ion Cohesive forces Body-centred cubic\n",
      "Density Vapour Pressure Lowering Cooling curve Condensing\n",
      "Clausius-Clapeyron Freezing point Vapour pressure Hypertonic\n"
     ]
    }
   ],
   "source": [
    "# iterate all unique concepts\n",
    "\n",
    "lol = []\n",
    "version=time.time_ns()\n",
    "for word in uniq:\n",
    "    #print(word)\n",
    "    word2 = random_unique(uniq,word)\n",
    "    word3 = random_unique(uniq,[word,word2])\n",
    "    word4 = random_unique(uniq,[word,word2,word3])\n",
    "    print(word,word2,word3,word4)\n",
    "    lol.append([word,word2,word3,word4,version])\n",
    "fdf = pandas.DataFrame(lol,columns=['word1','word2','word3','word4','version'])\n",
    "fdf = fdf.rename_axis('index')"
   ]
  },
  {
   "cell_type": "code",
   "execution_count": 10,
   "metadata": {},
   "outputs": [],
   "source": [
    "fdf.to_excel(shuffledxls)\n"
   ]
  },
  {
   "cell_type": "code",
   "execution_count": null,
   "metadata": {},
   "outputs": [],
   "source": []
  },
  {
   "cell_type": "code",
   "execution_count": null,
   "metadata": {},
   "outputs": [],
   "source": []
  },
  {
   "cell_type": "code",
   "execution_count": null,
   "metadata": {},
   "outputs": [],
   "source": []
  }
 ],
 "metadata": {
  "kernelspec": {
   "display_name": "Python 3",
   "language": "python",
   "name": "python3"
  },
  "language_info": {
   "codemirror_mode": {
    "name": "ipython",
    "version": 3
   },
   "file_extension": ".py",
   "mimetype": "text/x-python",
   "name": "python",
   "nbconvert_exporter": "python",
   "pygments_lexer": "ipython3",
   "version": "3.7.1"
  }
 },
 "nbformat": 4,
 "nbformat_minor": 2
}
