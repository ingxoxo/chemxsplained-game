{
 "cells": [
  {
   "cell_type": "code",
   "execution_count": 72,
   "metadata": {},
   "outputs": [],
   "source": [
    "rawdatacsv=\"raw-word-data.csv\"\n",
    "shuffledcsv=\"shuffled_out.csv\"\n",
    "shuffledxls=\"shuffled_out.xls\"\n",
    "\n",
    "#word1\n",
    "#word2\n",
    "#word3\n",
    "#word4\n",
    "#version_seconds_since_epoch\n",
    "\n",
    "\n",
    "# firstword is legit the firts list so I use all the ideas\n",
    "# secondword is a random draw from the first list but not equal other words\n",
    "# thirdword is a random draw from the first list but not equal other words\n",
    "# fourthword is a random draw from the firts list but not equal other words"
   ]
  },
  {
   "cell_type": "code",
   "execution_count": 73,
   "metadata": {},
   "outputs": [],
   "source": [
    "import csv\n",
    "import random\n",
    "import time\n",
    "# with open(rawdatacsv, newline='') as csvfile:\n",
    "#     wordlist = csv.reader(csvfile, delimiter=',', quotechar='|')\n",
    "# print(wordlist)"
   ]
  },
  {
   "cell_type": "code",
   "execution_count": 74,
   "metadata": {},
   "outputs": [],
   "source": [
    "# random.choice(movie_list)"
   ]
  },
  {
   "cell_type": "code",
   "execution_count": 75,
   "metadata": {},
   "outputs": [],
   "source": [
    "# with open('eggs.csv', 'w', newline='') as csvfile:\n",
    "#     spamwriter = csv.writer(csvfile, delimiter=' ',\n",
    "#                             quotechar='|', quoting=csv.QUOTE_MINIMAL)\n",
    "#     spamwriter.writerow(['Spam'] * 5 + ['Baked Beans'])"
   ]
  },
  {
   "cell_type": "code",
   "execution_count": 76,
   "metadata": {},
   "outputs": [],
   "source": [
    "import pandas\n",
    "df = pandas.read_csv(rawdatacsv)\n",
    "#print(df)\n"
   ]
  },
  {
   "cell_type": "code",
   "execution_count": 77,
   "metadata": {},
   "outputs": [
    {
     "name": "stdout",
     "output_type": "stream",
     "text": [
      "Entropy\n"
     ]
    }
   ],
   "source": [
    "uniq = df.Concepts.unique()\n",
    "#df.Concepts.duplicated()\n",
    "print(random.choice(df.Concepts))"
   ]
  },
  {
   "cell_type": "code",
   "execution_count": 78,
   "metadata": {},
   "outputs": [],
   "source": [
    "def random_unique(data, duplicates=None):\n",
    "    # data is the list of data to pull from\n",
    "    # duplicates is what the random output must not match\n",
    "    # horrible case where duplicated contains more data than data and this will endlessly loop - I shoudn't hit that edge case\n",
    "    choice=random.choice(data)\n",
    "    if duplicates:\n",
    "        if choice in duplicates:\n",
    "            choice=random_unique(data,duplicates)\n",
    "    return choice\n",
    "\n",
    "# alternative is to remove the word chosen from the set and carry on picking"
   ]
  },
  {
   "cell_type": "code",
   "execution_count": 79,
   "metadata": {},
   "outputs": [],
   "source": [
    "# random_unique(df.Concepts)"
   ]
  },
  {
   "cell_type": "code",
   "execution_count": 80,
   "metadata": {},
   "outputs": [
    {
     "name": "stdout",
     "output_type": "stream",
     "text": [
      "Sublimation Molality Enthalpy Network-covalent solid\n",
      "Enthalpy Crystal lattice Sublimation Freezing point depression\n",
      "Deposition Solvent Exothermic Simple cubic\n",
      "Charge density Saturated Covalent radius Crystalline solid\n",
      "Melting Packing efficiency Condensation semi-permeable membrane\n",
      "Entropy Sublimation Surface tension Vaporising\n",
      "Saturated Metallic Crystallattice Mixture\n",
      "Molarity Metallic Cooling curve Hypertonic\n",
      "Colligative properties Freezing Network-covalent solid Triple point\n",
      "Molality Isotonic Entropy Solubility\n",
      "Ion-dipole Solvent Ionic Saturated\n",
      "Semi-permeable membrane Atomic solid Concave Exothermic\n",
      "Freezing Vapour Pressure Lowering Molarity Crystallattice\n",
      "Osmosis Colligative properties Phase diagram Sublimation\n",
      "Vaporising Crystal lattice Dispersion Intramolecular forces\n",
      "Henry's law Semi-permeable membrane Endothermic Simple cubic\n",
      "Condensing Gibbs free energy Triple point Charge density\n",
      "Ionic Boiling point elevation Molarity Covalent radius\n",
      "Hydrogen bonding Ion-induced dipole Electron cloud Vaporisation\n",
      "Covalent Molarity Freezing point depression Capillarity\n",
      "Electron cloud Concave Heating curve Ion-induced dipole\n",
      "Hydrogen bond Freezing Intermolecular forces Solubility\n",
      "Surface tension Ionic Dipole-Dipole Dispersion forces\n",
      "Dipole-Dipole Vaporisation Van der Waals radius Cohesive forces\n",
      "Capillarity Electron cloud Concave Van der Waals\n",
      "Ion-induced dipole Molality Pure solvent Crystallattice\n",
      "Cohesive forces Crystal lattice Dipole-induced dipole Convex\n",
      "Dipole-induced dipole Ion-dipole Metallic Pure solvent\n",
      "Adhesive forces Metallic Hypertonic Pure solvent\n",
      "Dispersion forces Entropy Henry's law Electron cloud\n",
      "Metallic Charge density Concave Amorphous solid\n",
      "Van der Waals radius Solubility Cooling curve Molarity\n",
      "Dispersion Ion-Dipole semi-permeable membrane Colligative properties\n",
      "Vapour Pressure Lowering Melting Hypertonic Viscosity\n",
      "Concave Freezing Vapour Pressure Lowering Surface tension\n",
      "Vapour pressure Metallic Osmosis Atomic solid\n",
      "Convex Henry's law Face-centered cubic Boiling point elevation\n",
      "Boiling point elevation Ion-Dipole Cooling curve Crystallattice\n",
      "Viscosity Surface tension like dissolves like Condensation\n",
      "Freezing point depression Condensing Gibbs free energy Entropy\n",
      "Crystalline solid Semi-permeable membrane Colligative properties Viscosity\n",
      "Osmotic pressure Simple cubic Gibbs free energy Crystalline solid\n",
      "Amorphous solid Mixture Freezing point depression Ion-Dipole\n",
      "Hypertonic Saturated Molality Van der Waals\n",
      "Hypotonic Dipole-Dipole Solute like dissolves like\n",
      "Crystallattice Pure solvent Cooling curve Crystal lattice\n",
      "Simple cubic Boiling point elevation Dipole-induced dipole Freezing point depression\n",
      "Isotonic Enthalpy Henry's law Cooling curve\n",
      "Body-centered cubic Enthalpy Intermolecular forces Intramolecular forces\n",
      "Cooling curve Osmotic pressure Colligative properties Molality\n",
      "Face-centered cubic Vapour pressure Heating curve Atomic solid\n",
      "Heating curve Dipole-Dipole Hypotonic Atomic solid\n",
      "Packing efficiency Network-covalent solid Vapour pressure semi-permeable membrane\n",
      "Phase diagram Cooling curve Entropy Hypertonic\n",
      "Crystal lattice Convex Enthalpy Cooling curve\n",
      "Exothermic Network-covalent solid Deposition Covalent\n",
      "Endothermic Solubility Triple point Mixture\n",
      "Solution Vaporising Crystallattice Vapour Pressure Lowering\n",
      "Atomic solid Intermolecular forces Electron cloud Solute\n",
      "Triple point Hydrogen bond Cooling curve Crystal lattice\n",
      "Network-covalent solid Condensation Crystallattice Enthalpy\n",
      "Critical point Molarity Molality Surface tension\n",
      "Pure solvent Van der Waals Amorphous solid Deposition\n",
      "Intermolecular forces Network-covalent solid Condensation Vaporising\n",
      "Intramolecular forces Hydrogen bonding Viscosity Ion-dipole\n",
      "Mixture Pure solvent Condensation Cooling curve\n",
      "Solute Vaporising Cohesive forces Vaporisation\n",
      "Solvent Triple point Deposition Phase diagram\n",
      "Hydration shell Face-centered cubic Electron cloud Convex\n",
      "Gibbs free energy Intermolecular forces Boiling point elevation Crystallattice\n",
      "Solubility Critical point Covalent radius Freezing point depression\n",
      "like dissolves like Ion-Dipole Critical point Vapour pressure\n",
      "semi-permeable membrane Solvent Cohesive forces Deposition\n",
      "Vaporisation semi-permeable membrane Enthalpy Hydrogen bond\n",
      "Van der Waals Dipole-induced dipole Triple point Colligative properties\n",
      "Condensation Simple cubic Heating curve Solvent\n",
      "Covalent radius Hydration shell Hypertonic Henry's law\n",
      "Ion-Dipole Dipole-induced dipole Endothermic Solution\n"
     ]
    }
   ],
   "source": [
    "# iterate all unique concepts\n",
    "\n",
    "lol = []\n",
    "version=time.time_ns()\n",
    "for word in uniq:\n",
    "    #print(word)\n",
    "    word2 = random_unique(uniq,word)\n",
    "    word3 = random_unique(uniq,[word,word2])\n",
    "    word4 = random_unique(uniq,[word,word2,word3])\n",
    "    print(word,word2,word3,word4)\n",
    "    lol.append([word,word2,word3,word4,version])\n",
    "fdf = pandas.DataFrame(lol,columns=['word1','word2','word3','word4','version'])\n",
    "fdf = fdf.rename_axis('index')"
   ]
  },
  {
   "cell_type": "code",
   "execution_count": 81,
   "metadata": {},
   "outputs": [],
   "source": [
    "fdf.to_excel(shuffledxls)\n"
   ]
  },
  {
   "cell_type": "code",
   "execution_count": null,
   "metadata": {},
   "outputs": [],
   "source": []
  },
  {
   "cell_type": "code",
   "execution_count": null,
   "metadata": {},
   "outputs": [],
   "source": []
  },
  {
   "cell_type": "code",
   "execution_count": null,
   "metadata": {},
   "outputs": [],
   "source": []
  }
 ],
 "metadata": {
  "kernelspec": {
   "display_name": "Python 3",
   "language": "python",
   "name": "python3"
  },
  "language_info": {
   "codemirror_mode": {
    "name": "ipython",
    "version": 3
   },
   "file_extension": ".py",
   "mimetype": "text/x-python",
   "name": "python",
   "nbconvert_exporter": "python",
   "pygments_lexer": "ipython3",
   "version": "3.7.1"
  }
 },
 "nbformat": 4,
 "nbformat_minor": 2
}
